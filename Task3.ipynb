{
 "cells": [
  {
   "cell_type": "code",
   "execution_count": 1,
   "metadata": {},
   "outputs": [
    {
     "name": "stdout",
     "output_type": "stream",
     "text": [
      "The sum is: 8.0\n"
     ]
    }
   ],
   "source": [
    "num1 = float(input(\"Enter first number: \"))\n",
    "num2 = float(input(\"Enter second number: \"))\n",
    "result = num1 + num2\n",
    "print(\"The sum is:\", result)"
   ]
  },
  {
   "cell_type": "code",
   "execution_count": 2,
   "metadata": {},
   "outputs": [
    {
     "name": "stdout",
     "output_type": "stream",
     "text": [
      "Odd\n"
     ]
    }
   ],
   "source": [
    "num = int(input(\"Enter an integer: \"))\n",
    "if num % 2 == 0:\n",
    "    print(\"Even\")\n",
    "else:\n",
    "    print(\"Odd\")"
   ]
  },
  {
   "cell_type": "code",
   "execution_count": 3,
   "metadata": {},
   "outputs": [
    {
     "name": "stdout",
     "output_type": "stream",
     "text": [
      "2 4 6 8 10 12 14 16 18 20 "
     ]
    }
   ],
   "source": [
    "for num in range(1, 21):\n",
    "    if num % 2 == 0:\n",
    "        print(num, end=' ')"
   ]
  },
  {
   "cell_type": "code",
   "execution_count": 7,
   "metadata": {},
   "outputs": [
    {
     "name": "stdout",
     "output_type": "stream",
     "text": [
      "Number of vowels: 3\n"
     ]
    }
   ],
   "source": [
    "def count_vowels(s):\n",
    "    vowels = 'aeiou'\n",
    "    count = 0\n",
    "    for char in s.lower():\n",
    "        if char in vowels:\n",
    "            count += 1\n",
    "    return count\n",
    "\n",
    "string = input(\"Enter a string: \")\n",
    "print(\"Number of vowels:\", count_vowels(string))"
   ]
  },
  {
   "cell_type": "code",
   "execution_count": 4,
   "metadata": {},
   "outputs": [
    {
     "name": "stdout",
     "output_type": "stream",
     "text": [
      "1 4 9 16 25 36 49 64 81 100 "
     ]
    }
   ],
   "source": [
    "numbers = list(range(1, 11))\n",
    "for num in numbers:\n",
    "    print(num ** 2, end=' ')"
   ]
  },
  {
   "cell_type": "code",
   "execution_count": 2,
   "metadata": {},
   "outputs": [
    {
     "name": "stdout",
     "output_type": "stream",
     "text": [
      "Youssef's average grade is: 82.50\n",
      "Congratulations! You did well.\n"
     ]
    }
   ],
   "source": [
    "name = input(\"Enter student's name: \")\n",
    "subjects = []\n",
    "scores = []\n",
    "num_subjects = int(input(\"Enter number of subjects: \"))\n",
    "\n",
    "for i in range(num_subjects):\n",
    "    subject = input(f\"Enter subject {i+1} name: \")\n",
    "    score = float(input(f\"Enter score for {subject}: \"))\n",
    "    subjects.append(subject)\n",
    "    scores.append(score)\n",
    "\n",
    "average = sum(scores) / num_subjects\n",
    "print(f\"{name}'s average grade is: {average:.2f}\")\n",
    "\n",
    "if average > 70:\n",
    "    print(\"Congratulations! You did well.\")\n",
    "else:\n",
    "    print(\"Keep working hard! You can improve.\")"
   ]
  },
  {
   "cell_type": "code",
   "execution_count": 5,
   "metadata": {},
   "outputs": [
    {
     "name": "stdout",
     "output_type": "stream",
     "text": [
      "Common elements: ['2', '3']\n"
     ]
    }
   ],
   "source": [
    "def common_elements(list1, list2):\n",
    "    return [elem for elem in list1 if elem in list2]\n",
    "\n",
    "list1 = input(\"Enter first list (comma-separated): \").split(',')\n",
    "list2 = input(\"Enter second list (comma-separated): \").split(',')\n",
    "print(\"Common elements:\", common_elements(list1, list2))"
   ]
  },
  {
   "cell_type": "code",
   "execution_count": 7,
   "metadata": {},
   "outputs": [
    {
     "name": "stdout",
     "output_type": "stream",
     "text": [
      "Updated list: ['1', '2', '4', '5']\n"
     ]
    }
   ],
   "source": [
    "def remove_element(lst, element):\n",
    "    if element in lst:\n",
    "        lst.remove(element)\n",
    "    return lst\n",
    "\n",
    "numbers = input(\"Enter list of numbers (comma-separated): \").split(',')\n",
    "element = input(\"Enter element to remove: \")\n",
    "print(\"Updated list:\", remove_element(numbers, element))"
   ]
  },
  {
   "cell_type": "code",
   "execution_count": 8,
   "metadata": {},
   "outputs": [
    {
     "name": "stdout",
     "output_type": "stream",
     "text": [
      "Last two digits: 80\n"
     ]
    }
   ],
   "source": [
    "A = int(input(\"Enter A: \"))\n",
    "B = int(input(\"Enter B: \"))\n",
    "C = int(input(\"Enter C: \"))\n",
    "D = int(input(\"Enter D: \"))\n",
    "\n",
    "product = A * B * C * D\n",
    "last_two = product % 100\n",
    "print(f\"Last two digits: {last_two:02d}\")"
   ]
  },
  {
   "cell_type": "code",
   "execution_count": 9,
   "metadata": {},
   "outputs": [
    {
     "name": "stdout",
     "output_type": "stream",
     "text": [
      "Prime\n"
     ]
    }
   ],
   "source": [
    "def is_prime(X):\n",
    "    if X <= 1:\n",
    "        return False\n",
    "    for i in range(2, int(X**0.5) + 1):\n",
    "        if X % i == 0:\n",
    "            return False\n",
    "    return True\n",
    "\n",
    "X = int(input(\"Enter a number: \"))\n",
    "print(\"Prime\" if is_prime(X) else \"Not Prime\")"
   ]
  },
  {
   "cell_type": "code",
   "execution_count": 12,
   "metadata": {},
   "outputs": [
    {
     "name": "stdout",
     "output_type": "stream",
     "text": [
      "Position: 1\n"
     ]
    }
   ],
   "source": [
    "N = int(input(\"Enter N: \"))\n",
    "A = list(map(int, input(\"Enter array elements: \").split()))\n",
    "X = int(input(\"Enter X: \"))\n",
    "\n",
    "if X in A:\n",
    "    print(\"Position:\", A.index(X))\n",
    "else:\n",
    "    print(\"Not found\")"
   ]
  },
  {
   "cell_type": "code",
   "execution_count": 13,
   "metadata": {},
   "outputs": [
    {
     "name": "stdout",
     "output_type": "stream",
     "text": [
      "Lucky\n"
     ]
    }
   ],
   "source": [
    "N = int(input(\"Enter N: \"))\n",
    "A = list(map(int, input(\"Enter array elements: \").split()))\n",
    "min_element = min(A)\n",
    "frequency = A.count(min_element)\n",
    "print(\"Lucky\" if frequency % 2 != 0 else \"Not Lucky\")"
   ]
  },
  {
   "cell_type": "code",
   "execution_count": 14,
   "metadata": {},
   "outputs": [
    {
     "name": "stdout",
     "output_type": "stream",
     "text": [
      "Array after swap: [3, 2, 1, 4, 6]\n"
     ]
    }
   ],
   "source": [
    "N = int(input(\"Enter N: \"))\n",
    "A = list(map(int, input(\"Enter array elements: \").split()))\n",
    "\n",
    "min_val = min(A)\n",
    "max_val = max(A)\n",
    "min_index = A.index(min_val)\n",
    "max_index = A.index(max_val)\n",
    "\n",
    "A[min_index], A[max_index] = A[max_index], A[min_index]\n",
    "print(\"Array after swap:\", A)"
   ]
  },
  {
   "cell_type": "code",
   "execution_count": 16,
   "metadata": {},
   "outputs": [
    {
     "name": "stdout",
     "output_type": "stream",
     "text": [
      "Lowest number: 1 at position: 3\n"
     ]
    }
   ],
   "source": [
    "N = int(input(\"Enter N: \"))\n",
    "A = list(map(int, input(\"Enter array elements: \").split()))\n",
    "min_val = min(A)\n",
    "min_index = A.index(min_val)\n",
    "print(\"Lowest number:\", min_val, \"at position:\", min_index)"
   ]
  },
  {
   "cell_type": "code",
   "execution_count": 17,
   "metadata": {},
   "outputs": [
    {
     "name": "stdout",
     "output_type": "stream",
     "text": [
      "Sorted array: [1, 2, 3, 5, 8]\n"
     ]
    }
   ],
   "source": [
    "N = int(input(\"Enter N: \"))\n",
    "A = list(map(int, input(\"Enter array elements: \").split()))\n",
    "A_sorted = sorted(A)\n",
    "print(\"Sorted array:\", A_sorted)"
   ]
  },
  {
   "cell_type": "code",
   "execution_count": 18,
   "metadata": {},
   "outputs": [
    {
     "name": "stdout",
     "output_type": "stream",
     "text": [
      "String without spaces: HelloWorld\n"
     ]
    }
   ],
   "source": [
    "string = input(\"Enter a string: \")\n",
    "no_spaces = string.replace(\" \", \"\")\n",
    "print(\"String without spaces:\", no_spaces)"
   ]
  },
  {
   "cell_type": "code",
   "execution_count": 19,
   "metadata": {},
   "outputs": [
    {
     "name": "stdout",
     "output_type": "stream",
     "text": [
      "List after swap: ['4', ' 2 ', '3', '1 ']\n"
     ]
    }
   ],
   "source": [
    "def swap_first_last(lst):\n",
    "    if len(lst) >= 2:\n",
    "        lst[0], lst[-1] = lst[-1], lst[0]\n",
    "    return lst\n",
    "\n",
    "elements = input(\"Enter list elements (comma-separated): \").split(',')\n",
    "print(\"List after swap:\", swap_first_last(elements))"
   ]
  },
  {
   "cell_type": "code",
   "execution_count": 20,
   "metadata": {},
   "outputs": [
    {
     "name": "stdout",
     "output_type": "stream",
     "text": [
      "HCF: 12\n"
     ]
    }
   ],
   "source": [
    "import math\n",
    "\n",
    "def compute_hcf(numbers):\n",
    "    hcf = numbers[0]\n",
    "    for num in numbers[1:]:\n",
    "        hcf = math.gcd(hcf, num)\n",
    "    return hcf\n",
    "\n",
    "nums = list(map(int, input(\"Enter numbers (comma-separated): \").split(',')))\n",
    "print(\"HCF:\", compute_hcf(nums))"
   ]
  }
 ],
 "metadata": {
  "kernelspec": {
   "display_name": "Python 3",
   "language": "python",
   "name": "python3"
  },
  "language_info": {
   "codemirror_mode": {
    "name": "ipython",
    "version": 3
   },
   "file_extension": ".py",
   "mimetype": "text/x-python",
   "name": "python",
   "nbconvert_exporter": "python",
   "pygments_lexer": "ipython3",
   "version": "3.11.11"
  }
 },
 "nbformat": 4,
 "nbformat_minor": 2
}
