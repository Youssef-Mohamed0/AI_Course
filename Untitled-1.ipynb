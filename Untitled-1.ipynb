{
 "cells": [
  {
   "cell_type": "code",
   "execution_count": 8,
   "metadata": {},
   "outputs": [
    {
     "name": "stdout",
     "output_type": "stream",
     "text": [
      "The absolute value is: 9\n"
     ]
    }
   ],
   "source": [
    "# WAP to enter a number from user and print its absolute value.\n",
    "x = int(input(\"Enter a Number please: \"))\n",
    "\n",
    "if x < 0:\n",
    "    num = -x  \n",
    "else:\n",
    "    num = x \n",
    "\n",
    "print(\"The absolute value is:\", num)\n"
   ]
  },
  {
   "cell_type": "code",
   "execution_count": 13,
   "metadata": {},
   "outputs": [
    {
     "name": "stdout",
     "output_type": "stream",
     "text": [
      "1990 is NOT a Leap Year\n"
     ]
    }
   ],
   "source": [
    "\n",
    "x = int(input(\"Enter a year: \"))\n",
    "\n",
    "if x % 4 == 0 and x % 100 != 0 or x % 400 == 0:\n",
    "    print(x, \"is a Leap Year\")\n",
    "else:\n",
    "    print(x, \"is NOT a Leap Year\")\n"
   ]
  },
  {
   "cell_type": "code",
   "execution_count": 14,
   "metadata": {},
   "outputs": [
    {
     "name": "stdout",
     "output_type": "stream",
     "text": [
      "The Oldest age is: 15\n",
      "The Youngest age is: 5\n"
     ]
    }
   ],
   "source": [
    "\n",
    "num1 = int(input(\"Enter Your age: \"))\n",
    "num2 = int(input(\"Enter Your age: \"))\n",
    "num3 = int(input(\"Enter Your age: \"))\n",
    "\n",
    "if num1 >= num2 and num1 >= num3:\n",
    "    oldest = num1\n",
    "elif num2 >= num1 and num2 >= num3:\n",
    "    oldest = num2\n",
    "else:\n",
    "    oldest = num3\n",
    "\n",
    "if num1 <= num2 and num1 <= num3:\n",
    "    youngest = num1\n",
    "elif num2 <= num1 and num2 <= num3:\n",
    "    youngest = num2\n",
    "else:\n",
    "    youngest = num3\n",
    "\n",
    "print(\"The Oldest age is:\", oldest)\n",
    "print(\"The Youngest age is:\", youngest)\n"
   ]
  },
  {
   "cell_type": "code",
   "execution_count": null,
   "metadata": {},
   "outputs": [],
   "source": []
  }
 ],
 "metadata": {
  "kernelspec": {
   "display_name": "Python 3",
   "language": "python",
   "name": "python3"
  },
  "language_info": {
   "codemirror_mode": {
    "name": "ipython",
    "version": 3
   },
   "file_extension": ".py",
   "mimetype": "text/x-python",
   "name": "python",
   "nbconvert_exporter": "python",
   "pygments_lexer": "ipython3",
   "version": "3.12.7"
  }
 },
 "nbformat": 4,
 "nbformat_minor": 2
}
